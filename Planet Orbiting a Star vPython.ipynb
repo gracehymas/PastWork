{
 "cells": [
  {
   "cell_type": "markdown",
   "metadata": {
    "collapsed": false
   },
   "source": [
    "# Modelling Planetary Orbits\n",
    "\n",
    "## Grace Hymas - 05/12/2016 \n"
   ]
  },
  {
   "cell_type": "markdown",
   "metadata": {},
   "source": [
    "In this session we use the formula $$F = -\\frac{G m_1 m_2}{r^2}$$ \n",
    "\n",
    "where $G$ is the gravitational constant, \n",
    "$m_1$ is the mass of the star, \n",
    "$m_2$ is the mass of the planet,\n",
    "$r$ is the distance between the two masses and $F$ is the resultant force due to gravity,\n",
    "\n",
    "to simulate the force acting between planets/stars, and the effects on their motion. The force is negative as it is an attractive force.\n",
    "\n",
    "In the simulations we assume that the mass of the central star is much larger than the mass of the planets so the acceleration experienced by the star due to the planet will be small compared to the acceleration experienced by the planet due to the star. To keep things simple, we will assume the acceleration on the star due to the planet is small enough that we can neglect it, and put the star in a fixed position at the origin of our co-ordinate system. "
   ]
  },
  {
   "cell_type": "code",
   "execution_count": 17,
   "metadata": {
    "collapsed": false
   },
   "outputs": [],
   "source": [
    "from vpython import sphere, vector, color, rate, mag, canvas, label, arrow"
   ]
  },
  {
   "cell_type": "markdown",
   "metadata": {},
   "source": [
    "## Part 1: Planet Orbiting a Star\n",
    "\n",
    "In this simulation a planet starts with velocity and moves in an orbit around a star. An arrow is pointing in the direction of the force felt by the planet as it moves around the star. The arrow always points towards the centre of the star as it is centripetal force.\n",
    "\n",
    "Given our starting point of the initial position and velocity of the planet, and a fixed timestep $\\delta t$, we can calculate how $\\mathbf{r}$ changes:\n",
    "\n",
    "$$\\mathbf{r}(t + \\delta t)  = \\mathbf{r}(t) + \\delta \\mathbf{r} $$\n",
    "\n",
    "$$ \\qquad  \\qquad = \\mathbf{r}(t) + \\mathbf{v} \\delta t $$\n",
    "\n",
    "and how $\\mathbf{v}$ changes:\n",
    "\n",
    "$$ \\mathbf{v}(t + \\delta t)  = \\mathbf{v}(t) + \\delta \\mathbf{v} $$\n",
    "\n",
    "$$  \\qquad \\qquad = \\mathbf{v}(t) - \\frac{GM \\mathbf{r}}{|\\mathbf{r|^3}} \\delta t =  \\mathbf{v}(t) - \\frac{GM \\hat{\\mathbf{r}}}{|\\mathbf{r|^2}} \\delta t$$\n",
    "\n",
    "\n",
    "\n",
    "Change in velocity is calculated using: $\\mathbf{v} \\leftarrow \\mathbf{v} - \\frac{GM \\mathbf{r}}{|\\mathbf{r|^3}} \\delta t$,  or equivalently $\\mathbf{v} \\leftarrow \\mathbf{v} - \\frac{GM \\hat{\\mathbf{r}}}{|\\mathbf{r|^2}} \\delta t$\n",
    "\n",
    "Change in position is calculating using: $\\mathbf{r} \\leftarrow \\mathbf{r} + \\mathbf{v} \\delta t $"
   ]
  },
  {
   "cell_type": "code",
   "execution_count": 21,
   "metadata": {
    "collapsed": false
   },
   "outputs": [
    {
     "data": {
      "text/html": [
       "<div id=\"glowscript\" class=\"glowscript\"></div>"
      ],
      "text/plain": [
       "<IPython.core.display.HTML object>"
      ]
     },
     "metadata": {},
     "output_type": "display_data"
    },
    {
     "data": {
      "application/javascript": [
       "window.__context = { glowscript_container: $(\"#glowscript\").removeAttr(\"id\")}"
      ],
      "text/plain": [
       "<IPython.core.display.Javascript object>"
      ]
     },
     "metadata": {},
     "output_type": "display_data"
    },
    {
     "name": "stdout",
     "output_type": "stream",
     "text": [
      "end of program\n"
     ]
    }
   ],
   "source": [
    "canvas(width = 800, height = 600)    # setting the size of the canvas\n",
    "\n",
    "dt = 0.001       # timestep\n",
    "step = 1         # loop counter\n",
    "maxstep = 2000   # maximum number of steps\n",
    "\n",
    "# defining the star, planets and constants\n",
    "G = 1\n",
    "M = 1000                                                                        # mass of star (in units where G = 1)\n",
    "mass = 1                                                                        # mass of planet \n",
    "initpos = vector(0,1,0)                                                         # initial position vector of Planet\n",
    "Planet = sphere(pos=initpos,radius=0.05*mass,color=color.blue,make_trail=True)  # defining properties of Planer\n",
    "Planet.trail_color = color.white                                                # trail colour of Planet\n",
    "Star = sphere(pos=vector(0,0,0),radius=0.1,color=color.magenta)                 # defining position and properties of star\n",
    "vel = vector(-25, 0, 0)                                                         # initial velocity of Planet\n",
    "arrow0 = arrow(pos=Planet.pos,axis=Star.pos-Planet.pos, shaftwidth=0.01, color=color.green)        # creating a force arrow\n",
    "\n",
    "while step <= maxstep:                                                          # initialising the loop subject to conditions\n",
    "    vel = vel - (G*M*initpos*dt)/(mag(initpos)**3)                              # new velocity according to equations above\n",
    "    initpos = initpos + vel*dt                                                  # calculates new position of planet\n",
    "    Planet.pos = initpos                                                        # plots new position of planet\n",
    "    force = (G*M*mass*initpos)/(mag(initpos)**3)                                # force according to equation above\n",
    "    arrow0.pos=Planet.pos                                                       # sets start position of new arrow\n",
    "    arrow0.axis=(Star.pos-Planet.pos)*(mag(force)/10000)                        # calculates end point of arrow\n",
    "    step = step + 1\n",
    "    rate(20)\n",
    "\n",
    "print(\"end of program\")"
   ]
  },
  {
   "cell_type": "markdown",
   "metadata": {},
   "source": [
    "## Part 2: Multiple Planets\n",
    "\n",
    "This is a simulation of 2 planets orbiting a star. The 2 planets are of similar mass, and their orbits cross each other close to the star. The system shows that since the masses of the planets much smaller than the mass of the central star, they only change each others orbits slightly, and the main ellipse shape of orbits with the star in the middle stays mostly the same. The largest interaction between planets can be observed when they are very close, they speed up dramatically causing them to follow a slightly different path on the next orbit. "
   ]
  },
  {
   "cell_type": "code",
   "execution_count": 19,
   "metadata": {
    "collapsed": false
   },
   "outputs": [
    {
     "data": {
      "text/html": [
       "<div id=\"glowscript\" class=\"glowscript\"></div>"
      ],
      "text/plain": [
       "<IPython.core.display.HTML object>"
      ]
     },
     "metadata": {},
     "output_type": "display_data"
    },
    {
     "data": {
      "application/javascript": [
       "window.__context = { glowscript_container: $(\"#glowscript\").removeAttr(\"id\")}"
      ],
      "text/plain": [
       "<IPython.core.display.Javascript object>"
      ]
     },
     "metadata": {},
     "output_type": "display_data"
    },
    {
     "name": "stdout",
     "output_type": "stream",
     "text": [
      "ERROR! Session/line number was not unique in database. History logging moved to new session 36\n",
      "end of program\n"
     ]
    }
   ],
   "source": [
    "canvas(width = 800, height = 600) # setting the size of the canvas\n",
    "\n",
    "dt = 0.001            # timestep\n",
    "step = 1              # loop counter\n",
    "maxstep = 5000        # maximum number of steps\n",
    "\n",
    "# defining the star, planets and constants\n",
    "\n",
    "G = 1                 # defining G\n",
    "M = 1000              # mass of star (in units where G = 1)\n",
    "mass = 1              # mass of planet \n",
    "\n",
    "mass1 = 1                                                                           # mass of planet 1\n",
    "initpos1 = vector(0,2,0)                                                            # initial position vector of Planet1\n",
    "Planet1 = sphere(pos=initpos1,radius=0.05*mass1,color=color.green,make_trail=True)  # defining properties of Planet1\n",
    "Planet1.trail_color = color.white                                                   # defining path colour and presence\n",
    "\n",
    "mass2 = 1.5                                                                         # mass of Planet2\n",
    "initpos2 = vector(0,-3,0)                                                           # initial position vector of Planet2\n",
    "Planet2 = sphere(pos=initpos2,radius=0.05*mass2,color=color.blue,make_trail=True)   # defining properties of Planet2\n",
    "Planet2.trail_color = color.cyan                                                    # defining path colour and presence\n",
    "\n",
    "Star = sphere(pos=vector(0,0,0),radius=0.3,color=color.magenta)                     # defining position and properties of star\n",
    "\n",
    "vel1 = vector(-15, 0, 0)                                                            # initial velocity of Planet1\n",
    "vel2 = vector(13, 0, 0)                                                             # initial velocity of Planet2\n",
    "\n",
    "r1 = vector(Planet1.pos - Star.pos)                                                 # vector from Star to Planet1\n",
    "dist1 = mag(r1)                                                                     # distance of Planet1 to star \n",
    "\n",
    "r2 = vector(Planet2.pos - Star.pos)                                                 # vector from Star to Planet2    \n",
    "dist2 = mag(r2)                                                                     # distance of Planet2 to star\n",
    "\n",
    "r12 = vector(Planet1.pos - Planet2.pos)                                             # vector from Planet2 to Planet1\n",
    "r21 = -1 * r12                                                                      # vector from Planet1 to Planet2\n",
    "dist12 = mag(r12)                                                                   # distance between Planet2 and Planet1\n",
    "\n",
    "\n",
    "while step <= maxstep:\n",
    "    # recalculating vectors and distances with current positions of each object\n",
    "    r1 = vector(Planet1.pos - Star.pos)                             # new vector from star to Planet1\n",
    "    r2 = vector(Planet2.pos - Star.pos)                             # new vector from star to Planet2\n",
    "    r12 = vector(Planet1.pos - Planet2.pos)                         # new vector from Planet2 to Planet1\n",
    "    r21 = -1 * r12                                                  # new vector from Planet1 to Planet2\n",
    "    dist1 = mag(r1)                                                 # new distances according to above\n",
    "    dist2 = mag(r2)\n",
    "    dist12 = mag(r12)\n",
    "    \n",
    "    # calculating changes in velocities of each star due to their gravitational interaction\n",
    "    vel1 = vector(vel1 - (((M * mass1 * r1) / (dist1 ** 3)) * dt))  # change in velocity of Planet1 due to Star\n",
    "    vel1 = vector(vel1 - (((mass2 * r12) / (dist12 ** 3)) * dt))    # change in velocity of Planet1 due to Planet2\n",
    "    Planet1.pos = (vel1 * dt) + Planet1.pos                         # effect of change used to calculate new Planet1 position\n",
    "    \n",
    "    vel2 = vector(vel2 - (((M * mass2 * r2) / (dist2 ** 3)) * dt))  # same as above but for Planet2\n",
    "    vel2 = vector(vel2 - (((mass1 * r21) / (dist12 ** 3)) * dt))\n",
    "    Planet2.pos = (vel2 * dt) + Planet2.pos\n",
    "    \n",
    "    step += 1     # increasing the loop counter\n",
    "    rate(20)      # how many frames per second\n",
    "    \n",
    "print(\"end of program\")"
   ]
  },
  {
   "cell_type": "code",
   "execution_count": null,
   "metadata": {
    "collapsed": true
   },
   "outputs": [],
   "source": []
  }
 ],
 "metadata": {
  "anaconda-cloud": {},
  "kernelspec": {
   "display_name": "VPython",
   "language": "python",
   "name": "vpython"
  },
  "language_info": {
   "codemirror_mode": {
    "name": "ipython",
    "version": 3
   },
   "file_extension": ".py",
   "mimetype": "text/x-python",
   "name": "python",
   "nbconvert_exporter": "python",
   "pygments_lexer": "ipython3",
   "version": "3.5.2"
  }
 },
 "nbformat": 4,
 "nbformat_minor": 1
}
