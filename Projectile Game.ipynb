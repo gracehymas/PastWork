{
 "cells": [
  {
   "cell_type": "markdown",
   "metadata": {
    "collapsed": true
   },
   "source": [
    "# 16024652 - Final Task - 13/01/2017"
   ]
  },
  {
   "cell_type": "markdown",
   "metadata": {
    "collapsed": true
   },
   "source": [
    "## Simulating an Angry Birds Game\n"
   ]
  },
  {
   "cell_type": "markdown",
   "metadata": {},
   "source": [
    "The aim of this task is to create a code which allows a user to launch a projectile at a target by inputting a speed and an angle. The user must try to knock the target over by varying this angle and initial speed. \n",
    "\n",
    "Classical mechanics will be used to calculate the porperties of both the projectile and the target dependant on the angle and speed the user inputs, and therefore their resulting interaction. This will be used to define functions for the torque and projectile calculations which in an animation will show the motion of the whole sequence of events. If and while loops will be used extensively to redraw objects on the canvas creating the animation. "
   ]
  },
  {
   "cell_type": "markdown",
   "metadata": {},
   "source": [
    "Here necessary libraries are being imported, occasionally with useful alias's that will save time and space in the code"
   ]
  },
  {
   "cell_type": "code",
   "execution_count": 1,
   "metadata": {
    "collapsed": false
   },
   "outputs": [
    {
     "data": {
      "application/javascript": [
       "require.undef(\"nbextensions/vpython_libraries/jquery-ui.custom.min\");"
      ],
      "text/plain": [
       "<IPython.core.display.Javascript object>"
      ]
     },
     "metadata": {},
     "output_type": "display_data"
    },
    {
     "data": {
      "application/javascript": [
       "require.undef(\"nbextensions/vpython_libraries/glow.2.1.min\");"
      ],
      "text/plain": [
       "<IPython.core.display.Javascript object>"
      ]
     },
     "metadata": {},
     "output_type": "display_data"
    },
    {
     "data": {
      "application/javascript": [
       "require.undef(\"nbextensions/vpython_libraries/glowcomm\");"
      ],
      "text/plain": [
       "<IPython.core.display.Javascript object>"
      ]
     },
     "metadata": {},
     "output_type": "display_data"
    },
    {
     "data": {
      "application/javascript": [
       "require([\"nbextensions/vpython_libraries/jquery-ui.custom.min\"], function(){console.log(\"JQUERY LOADED\");})"
      ],
      "text/plain": [
       "<IPython.core.display.Javascript object>"
      ]
     },
     "metadata": {},
     "output_type": "display_data"
    },
    {
     "data": {
      "application/javascript": [
       "require([\"nbextensions/vpython_libraries/glow.2.1.min\"], function(){console.log(\"GLOW LOADED\");})"
      ],
      "text/plain": [
       "<IPython.core.display.Javascript object>"
      ]
     },
     "metadata": {},
     "output_type": "display_data"
    },
    {
     "data": {
      "application/javascript": [
       "require([\"nbextensions/vpython_libraries/glowcomm\"], function(){console.log(\"GLOWCOMM LOADED\");})"
      ],
      "text/plain": [
       "<IPython.core.display.Javascript object>"
      ]
     },
     "metadata": {},
     "output_type": "display_data"
    },
    {
     "data": {
      "text/html": [
       "<div id=\"glowscript\" class=\"glowscript\"></div>"
      ],
      "text/plain": [
       "<IPython.core.display.HTML object>"
      ]
     },
     "metadata": {},
     "output_type": "display_data"
    },
    {
     "data": {
      "application/javascript": [
       "window.__context = { glowscript_container: $(\"#glowscript\").removeAttr(\"id\")}"
      ],
      "text/plain": [
       "<IPython.core.display.Javascript object>"
      ]
     },
     "metadata": {},
     "output_type": "display_data"
    }
   ],
   "source": [
    "import numpy as np\n",
    "from vpython import sys, compound, sphere, color, rate, canvas, vector, curve, label, box, cross, mag, random, rotate, time, sleep, textures, ellipsoid,cone"
   ]
  },
  {
   "cell_type": "markdown",
   "metadata": {},
   "source": [
    "### Part 1: Essential Values"
   ]
  },
  {
   "cell_type": "markdown",
   "metadata": {},
   "source": [
    "These values are all values that are needed throughout the script. It is useful to define them with alias's if they are to be used multiple times because it makes it more clear what the term is, as well as saving space and time in the code. \n",
    "\n",
    "The projectile has now been named 'bird' in fitting with the theme of an Angry Birds game."
   ]
  },
  {
   "cell_type": "code",
   "execution_count": 2,
   "metadata": {
    "collapsed": false
   },
   "outputs": [],
   "source": [
    "x0 = 0.0                     # initial x-value\n",
    "y0 = 0.0                     # initial y-value\n",
    "t = 0             \n",
    "dt = 0.01                    # change in time\n",
    "g = 9.81                     # acceleration due to gravity\n",
    "\n",
    "birdm = 0.1                  # mass of the bird\n",
    "\n",
    "Tm = 100                     # target mass\n",
    "Th = 2                       # target height in y-direction\n",
    "Tl = 0.5                     # target length in z-direction\n",
    "Tw = 0.5                     # target width in x-direction\n",
    "Tx = random()*10+5           # x-position of target, this code creates a random number between 5 and 15\n",
    "dr = (Tw)/2                  # horizontal distance between the point of rotation and the centre of mass\n",
    "hit_tolerance = 0.05+dr      # defined as sum of the radius of the bird (0.05m) and the distance from the edge \n",
    "                             # of the target to the central vertical axis of the target"
   ]
  },
  {
   "cell_type": "markdown",
   "metadata": {},
   "source": [
    "### Part 2: The Torque Condition"
   ]
  },
  {
   "cell_type": "markdown",
   "metadata": {},
   "source": [
    "Here we aim to find if the torque provided by the projectile is sufficient to overcome the restoring torque, which operates through the centre of mass. This would rotate the target clockwise (assuming the projectile is arriving from the left) around its bottom right corner, which is referred to as the point of rotation in the code. \n",
    "\n",
    "First we consider the torque which will try to resore the target to it's normal, stable, upright position:\n",
    "\n",
    "$$\\tau _{restoring}=\\boldsymbol{F}_{grav} \\times \\mathbf{d}_{r}$$\n",
    "\n",
    "where $\\mathbf{F}_{grav} = m\\boldsymbol{g}$ is the force provided by gravity, operating through the centre of mass,\n",
    "and $\\mathbf{d}_{r}=\\frac{w}{2}$ is the horizontal distance between the point of rotation (i.e. the bottom\n",
    "right corner) and the centre of mass.\n",
    "\n",
    "We are interested in the magnitude of this torque so: \n",
    "\n",
    "$$\\left | \\tau _{restoring} \\right |=-mg\\frac{w}{2}$$\n",
    "\n",
    "We must also consider the torque supplied by the collision:\n",
    "\n",
    "$$\\tau _{applied}=\\boldsymbol{F}_{apploed} \\times \\mathbf{d}_{a}$$\n",
    "\n",
    "where $\\mathbf{d}_{a}$ is the vector from the point of rotation to the point of impact, on the left-hand side of the target at height h and $\\mathbf{F}_{applied}=\\frac{\\boldsymbol{p}_{bird}}{\\Delta t}$.\n",
    "\n",
    "To find applied force we therefore need to find momentum of the bird which, as shown in the code, is worked out using:\n",
    "\n",
    "$$p_{x}=mv_{0}cos\\left ( \\theta  \\right )$$\n",
    "\n",
    "$$p_{y}=mv_{0}sin\\left ( \\theta  \\right )-mgt$$\n",
    "\n",
    "The target will topple if:\n",
    "\n",
    "$$\\left | \\tau _{applied} \\right |> \\left | \\tau _{restoring} \\right |$$\n",
    "\n",
    "so this is the condition the following function is based around.\n",
    "\n",
    "The variable hit tolerance is equal to the sum of the radius of the bird (5cm) and the distance from the edge of the target to the central vertical axis of the target. It is defined that if the distance between the bird’s position and the x-position of the target is less than hit tolerance, a collision has taken place."
   ]
  },
  {
   "cell_type": "code",
   "execution_count": 3,
   "metadata": {
    "collapsed": false
   },
   "outputs": [],
   "source": [
    "def torque():\n",
    "    '''function that calculates the torque condition.  \n",
    "    Inputs:\n",
    "    g: acceleration due to gravity\n",
    "    dr: horizontal distance between the point of rotation and the centre of mass\n",
    "    Tm: target mass\n",
    "    v0: initial velocity inputted by user\n",
    "    theta: initial angle inputted by user\n",
    "    birdm: mass of bird\n",
    "    t: time\n",
    "    dt: timestep\n",
    "    Returns:\n",
    "    1: applied torque > restoring torque, the target topples\n",
    "    0: applied torque < restoring torque, the target does not topple\n",
    "    '''\n",
    "    \n",
    "    global Tor                                       # so Tor can be referenced outside this function\n",
    "    Tor = abs(-g*Tm*dr)                              # finding the restoring torque               \n",
    "    px = np.cos(theta)*birdm*v0                      # x-componant of momentum\n",
    "    py = (np.sin(theta)*birdm*v0)- (birdm*g*t)       # y-componant of momentum\n",
    "    global p                                         # so p can be referenced outside this function\n",
    "    p = vector(px,py,0)                              # finding momentum vector\n",
    "    rot = vector(T.pos.x+0.25,0,0)                   # point of rotation, bottom right hand corner of target \n",
    "    da = bird.pos - rot                        \n",
    "    # vector from the point of rotation to the point of impact, on the left-hand side of the target at height h\n",
    "    Fa = p/dt                                        # applied force\n",
    "    global Toa                                       # so Toa can be referenced outside this function\n",
    "    Toa = cross(Fa,da)                               # calculating applied torque\n",
    "    \n",
    "    \n",
    "    if mag(Toa) > Tor:\n",
    "        return 1\n",
    "    else:\n",
    "        return 0    "
   ]
  },
  {
   "cell_type": "markdown",
   "metadata": {},
   "source": [
    "### Part 3: Defining Motion"
   ]
  },
  {
   "cell_type": "markdown",
   "metadata": {},
   "source": [
    "Here the user is asked to input an initial speed and angle. From this the position of the bird with respect to time can be worked out using:\n",
    "\n",
    "$$x = x_{0}+v_{0}tcos\\left ( \\theta  \\right )$$\n",
    "$$y = y_{0}+v_{0}tsin\\left ( \\theta  \\right )-\\frac{gt^{2}}{2}$$\n",
    "\n",
    "This sends the bird into projectile motion. Whether the bird then hits the target or not depends on the values the user inputs. If the bird does not hit the target the user must try again. Simularly, if the bird does hit the target but the applied torque is not enough to overcome the restoring torque, the user must also try again. The user wins the game if the bird hits the target and the applied torque is enough to knock over the target."
   ]
  },
  {
   "cell_type": "code",
   "execution_count": 16,
   "metadata": {
    "collapsed": false
   },
   "outputs": [],
   "source": [
    "def projectile():\n",
    "    '''function that animates the projectile motion and collision.  \n",
    "    Inputs:\n",
    "    v0\n",
    "    Returns:\n",
    "    1: the bird hits the target and applied torque > restoring torque, the target topples\n",
    "    0: the bird does not hit the target or it does but applied torque < restoring torque, the target does not topple\n",
    "    '''\n",
    "    global t             \n",
    "    t=0\n",
    "    global bird    # creating the compound bird object from an ellisoid, a sphere and a cone\n",
    "    birdbody = ellipsoid(pos=vector(x0,y0,0), length=0.6, height=0.5, width=0.5,color=color.magenta)\n",
    "    birdhead = sphere(pos=vector(0.4,0.25,0.25),radius = 0.2,color=color.magenta)\n",
    "    birdbeak = cone(pos=vector(0.6,0.25,0.25),axis=vector(0.3,0,0),radius=0.1,color=color.orange)\n",
    "    bird = compound([birdbody, birdhead,birdbeak], make_trail=True)\n",
    "    \n",
    "    #here the user is told to input terms \n",
    "    dtheta = float(input(\"Input the initial angle in degrees: \"))\n",
    "    global theta\n",
    "    theta = float(np.radians(dtheta))\n",
    "    global v0\n",
    "    v0 = float(input(\"Input the initial speed in m/s: \"))\n",
    "    \n",
    "    # while loop continues under the condition that the y position of the bird is greater than y0\n",
    "    while y0+(v0*t*np.sin(theta))-(0.5*g*t**2) >= y0:\n",
    "        t = t + dt                                        # increasing time by timestep\n",
    "        rate(1/dt)                                        # defining the rate of the animation (real time)\n",
    "        x = x0+v0*t*np.cos(theta)                         # calculating new x-position of bird\n",
    "        y = y0+v0*t*np.sin(theta) - 0.5*g*t**2            # calculating new y-position of bird\n",
    "        bird.pos = vector(x,y,0)                          # new vector position of bird\n",
    "        if abs(bird.pos.x-T.pos.x) < hit_tolerance:       \n",
    "            if 0 < y < 2.3:\n",
    "                label(pos=vector(8,6,0),color=color.green,text=\"You have hit the target\",box=False, background=color.black, opacity=1, height=20)\n",
    "                if torque() == 1: \n",
    "                    label(pos=vector(8,5,0),color=color.green,text=\"The target has toppled\", box=False, background=color.black, opacity=1, height =17)\n",
    "                    label(pos=vector(8,-5,0),color=color.yellow,text=\"You win!\",box=False,height=30, background=color.black, opacity=1, border=100)\n",
    "                    #labelx= label(pos=vector(1,-6,0), text = '\\n Impact height {0:0.2f} m \\n Momentum {0:0.2f} kgm/s \\n Applied torque {0:0.0f} Nm \\n Restoring torque {0:0.0f} Nm'.format(bird.pos.y,mag(p),Toa,Tor))\n",
    "                    print(\"The target has toppled\")\n",
    "                    print(\"Impact point height: {0:0.2f} m\".format(bird.pos.y))\n",
    "                    print(\"Momentum of bird at impact point: {0:0.2f} kgm/s\".format(mag(p)))\n",
    "                    print(\"Applied torque: {0:0.0f} Nm\".format(mag(Toa)))\n",
    "                    print(\"Magnitude of restoring torque: {0:0.0f} Nm\".format(Tor))\n",
    "                    sys.stdout.flush()\n",
    "                    \n",
    "                    i = 0\n",
    "                    while i <= 10:\n",
    "                        T.rotate(angle=0.1, origin=vector(T.pos.x+0.25,0,0), axis=vector(0,0,-1) ) \n",
    "                        i= i+0.01\n",
    "                        if y >= 0.25:\n",
    "                            x = bird.pos.x\n",
    "                            y = bird.pos.y - 0.5*g*(i**2)\n",
    "                            bird.pos = vector(x,y,0)\n",
    "                            sleep(0.0001)\n",
    "                    return 1\n",
    "                elif torque() == 0:\n",
    "                    label(pos=vector(8,-5,0),color=color.red,text=\"You lose, try again\",box=False,height=30, background=color.black, opacity=1)\n",
    "                    print(\"The target has not toppled\")\n",
    "                    print(\"Impact point height: {0:0.2f} m\".format(bird.pos.y))\n",
    "                    print(\"Momentum of bird at impact point: {0:0.2f} kgm/s\".format(mag(p)))\n",
    "                    print(\"Applied torque: {0:0.0f} Nm\".format(mag(Toa)))\n",
    "                    print(\"Magnitude of restoring torque: {0:0.0f} Nm\".format(Tor))\n",
    "                    sys.stdout.flush()\n",
    "                    label(pos=vector(8,5,0),color=color.red,text=\"The target has not toppled\",box=False, background=color.black, opacity=1)\n",
    "                    bird.visible = False      # returning bird to start\n",
    "                    bird.clear_trail()        # removing bird trail\n",
    "                    return 0 \n",
    "        elif abs(bird.pos.x-T.pos.x)>hit_tolerance and bird.pos.y < 0:\n",
    "            print(\"The target has not been hit\")\n",
    "            label(pos=vector(8,-5,0),color=color.red,text=\"You lose, try again\",box=False,height=30, background=color.black, opacity=1)\n",
    "            label(pos=vector(8,6,0),color=color.red,text=\"You have not hit the target\",box=False, background=color.black, opacity=1, height=17)\n",
    "            sys.stdout.flush()\n",
    "            bird.visible = False\n",
    "            bird.clear_trail()\n",
    "            return 0\n",
    "    else:\n",
    "        pass"
   ]
  },
  {
   "cell_type": "markdown",
   "metadata": {},
   "source": [
    "### Part 4: Animating the Game"
   ]
  },
  {
   "cell_type": "markdown",
   "metadata": {},
   "source": [
    "Now the canvas is set up such that there is a bird, target and ground on it. The functions can now be run such that the objects move in the ways calculated in the functions. In the projectile() function it was defined that if the target was toppled the function would return 1, and if it was either hit and not toppled or not hit at all it would return 0, therefore all we need to constrain here is that whilst x is still equal to 0 the animation (loops) carry on, and if not, they stop. "
   ]
  },
  {
   "cell_type": "code",
   "execution_count": 17,
   "metadata": {
    "collapsed": false
   },
   "outputs": [
    {
     "data": {
      "text/html": [
       "<div id=\"glowscript\" class=\"glowscript\"></div>"
      ],
      "text/plain": [
       "<IPython.core.display.HTML object>"
      ]
     },
     "metadata": {},
     "output_type": "display_data"
    },
    {
     "data": {
      "application/javascript": [
       "window.__context = { glowscript_container: $(\"#glowscript\").removeAttr(\"id\")}"
      ],
      "text/plain": [
       "<IPython.core.display.Javascript object>"
      ]
     },
     "metadata": {},
     "output_type": "display_data"
    },
    {
     "name": "stdout",
     "output_type": "stream",
     "text": [
      "Input the initial angle in degrees: 10\n",
      "Input the initial speed in m/s: 40\n",
      "The target has toppled\n",
      "Impact point height: 1.86 m\n",
      "Momentum of bird at impact point: 3.95 kgm/s\n",
      "Applied torque: 752 Nm\n",
      "Magnitude of restoring torque: 245 Nm\n"
     ]
    }
   ],
   "source": [
    "scene = canvas(width=640, height=480, center=vector(8,0,0),range=8)\n",
    "ground = curve(pos=[(0,0,0),(16,0,0)], color=color.green)\n",
    "T = box(pos=vector(Tx,1,0), size=vector(Tl,Th,Tw), texture=textures.wood) #targer\n",
    "\n",
    "x = 0\n",
    "while x==0:\n",
    "    x = projectile()\n",
    "    \n"
   ]
  },
  {
   "cell_type": "markdown",
   "metadata": {
    "collapsed": false
   },
   "source": [
    "### Part 5: Game Discussion"
   ]
  },
  {
   "cell_type": "markdown",
   "metadata": {
    "collapsed": false
   },
   "source": [
    "To imporove the representation of the physics in the game we mostly need to reduce the number of assumptions we make in our calculations.\n",
    "\n",
    "Perhaps the biggest assumption that is made is that the collision between the ball and the target is completely elastic so no energy is lost. This means that the ball comes completely to rest transferring all its momentum to the target. In reality this is unlikely to happen and instead the ball would be more likely to bounce off the target slightly and bounce on the ground as it gains a small negative momentum from the collision.\n",
    "\n",
    "The contact time between the ball and the target is finite, and is the same for all collisions. It can thus be represented as a fixed parameter ∆tcollision.\n",
    "\n",
    "\n",
    "The target cannot slide on the ground;\n",
    "\n",
    "The target has constant density, so that its centre of mass is at the geometric centre\n",
    "of the target."
   ]
  },
  {
   "cell_type": "markdown",
   "metadata": {
    "collapsed": true
   },
   "source": [
    "### References"
   ]
  },
  {
   "cell_type": "markdown",
   "metadata": {},
   "source": [
    "I found out about the function sys.stdout.flush() from http://stackoverflow.com/questions/10019456/usage-of-sys-stdout-flush-method.\n",
    "\n",
    "All other research from http://www.glowscript.org/docs/VPythonDocs/index.html."
   ]
  },
  {
   "cell_type": "code",
   "execution_count": null,
   "metadata": {
    "collapsed": true
   },
   "outputs": [],
   "source": []
  }
 ],
 "metadata": {
  "anaconda-cloud": {},
  "kernelspec": {
   "display_name": "VPython",
   "language": "python",
   "name": "vpython"
  },
  "language_info": {
   "codemirror_mode": {
    "name": "ipython",
    "version": 3
   },
   "file_extension": ".py",
   "mimetype": "text/x-python",
   "name": "python",
   "nbconvert_exporter": "python",
   "pygments_lexer": "ipython3",
   "version": "3.5.2"
  }
 },
 "nbformat": 4,
 "nbformat_minor": 1
}
